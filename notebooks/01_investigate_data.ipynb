{
 "cells": [
  {
   "cell_type": "markdown",
   "metadata": {},
   "source": [
    "# Spaceship Titanic"
   ]
  },
  {
   "cell_type": "code",
   "execution_count": null,
   "metadata": {},
   "outputs": [
    {
     "ename": "",
     "evalue": "",
     "output_type": "error",
     "traceback": [
      "\u001b[1;31mThe kernel failed to start as the Python Environment '~/Library/Caches/pypoetry/virtualenvs/kaggle-spaceship-titanic-ApNxPZqk-py3.10/bin/python' is no longer available. Consider selecting another kernel or refreshing the list of Python Environments."
     ]
    }
   ],
   "source": [
    "import pandas as pd\n",
    "import plotly"
   ]
  },
  {
   "cell_type": "code",
   "execution_count": null,
   "metadata": {},
   "outputs": [
    {
     "ename": "",
     "evalue": "",
     "output_type": "error",
     "traceback": [
      "\u001b[1;31mThe kernel failed to start as the Python Environment '~/Library/Caches/pypoetry/virtualenvs/kaggle-spaceship-titanic-ApNxPZqk-py3.10/bin/python' is no longer available. Consider selecting another kernel or refreshing the list of Python Environments."
     ]
    }
   ],
   "source": [
    "train_csv = \"../data/train.csv\"\n",
    "test_csv = \"../data/test.csv\""
   ]
  },
  {
   "cell_type": "code",
   "execution_count": null,
   "metadata": {},
   "outputs": [
    {
     "ename": "",
     "evalue": "",
     "output_type": "error",
     "traceback": [
      "\u001b[1;31mThe kernel failed to start as the Python Environment '~/Library/Caches/pypoetry/virtualenvs/kaggle-spaceship-titanic-ApNxPZqk-py3.10/bin/python' is no longer available. Consider selecting another kernel or refreshing the list of Python Environments."
     ]
    }
   ],
   "source": [
    "train_df = pd.read_csv(train_csv)\n",
    "train_df.head()"
   ]
  },
  {
   "cell_type": "code",
   "execution_count": null,
   "metadata": {},
   "outputs": [
    {
     "ename": "",
     "evalue": "",
     "output_type": "error",
     "traceback": [
      "\u001b[1;31mThe kernel failed to start as the Python Environment '~/Library/Caches/pypoetry/virtualenvs/kaggle-spaceship-titanic-ApNxPZqk-py3.10/bin/python' is no longer available. Consider selecting another kernel or refreshing the list of Python Environments."
     ]
    }
   ],
   "source": [
    "train_df.describe()"
   ]
  },
  {
   "cell_type": "code",
   "execution_count": null,
   "metadata": {},
   "outputs": [
    {
     "ename": "",
     "evalue": "",
     "output_type": "error",
     "traceback": [
      "\u001b[1;31mThe kernel failed to start as the Python Environment '~/Library/Caches/pypoetry/virtualenvs/kaggle-spaceship-titanic-ApNxPZqk-py3.10/bin/python' is no longer available. Consider selecting another kernel or refreshing the list of Python Environments."
     ]
    }
   ],
   "source": [
    "train_df.nunique(dropna=False)"
   ]
  },
  {
   "cell_type": "code",
   "execution_count": null,
   "metadata": {},
   "outputs": [
    {
     "ename": "",
     "evalue": "",
     "output_type": "error",
     "traceback": [
      "\u001b[1;31mThe kernel failed to start as the Python Environment '~/Library/Caches/pypoetry/virtualenvs/kaggle-spaceship-titanic-ApNxPZqk-py3.10/bin/python' is no longer available. Consider selecting another kernel or refreshing the list of Python Environments."
     ]
    }
   ],
   "source": [
    "train_df.Destination.value_counts()"
   ]
  },
  {
   "cell_type": "code",
   "execution_count": null,
   "metadata": {},
   "outputs": [
    {
     "ename": "",
     "evalue": "",
     "output_type": "error",
     "traceback": [
      "\u001b[1;31mThe kernel failed to start as the Python Environment '~/Library/Caches/pypoetry/virtualenvs/kaggle-spaceship-titanic-ApNxPZqk-py3.10/bin/python' is no longer available. Consider selecting another kernel or refreshing the list of Python Environments."
     ]
    }
   ],
   "source": [
    "for col in train_df.columns:\n",
    "    if (train_df[col].nunique(dropna=False)) < 10:\n",
    "        display(pd.DataFrame((train_df[col].value_counts(dropna=False))))"
   ]
  },
  {
   "cell_type": "markdown",
   "metadata": {},
   "source": [
    "### Initial ideas\n",
    "* Most columns need to be cleaned of NaN values\n",
    "    * Try dropping them, or replacing them with 'None'\n",
    "    * Some models can interpret these values\n",
    "    * But also want to try Predictive Imputing of missing values\n",
    "* How does PassengerID work?\n",
    "    * Would be interesting to look at how many groups there are; split this into an extra column so that you have GroupID and passengerID\n",
    "* How does Cabin work? \n",
    "    * Would be interesting to see how the Deck, Number and Side (Port or Starboard) affected the results too.\n",
    "* Should Age be made discrete?\n",
    "* Should money spent on the RoomService, FoodCourt, Shoppingmall, Spa, VRDeck be made discrete? \n",
    "    * do some people spend nothing? \n",
    "    * should each column be put into a range, or the sum of the columns make a range?\n",
    "* How many people were transported, as a percentage?\n"
   ]
  },
  {
   "cell_type": "code",
   "execution_count": null,
   "metadata": {},
   "outputs": [
    {
     "ename": "",
     "evalue": "",
     "output_type": "error",
     "traceback": [
      "\u001b[1;31mThe kernel failed to start as the Python Environment '~/Library/Caches/pypoetry/virtualenvs/kaggle-spaceship-titanic-ApNxPZqk-py3.10/bin/python' is no longer available. Consider selecting another kernel or refreshing the list of Python Environments."
     ]
    }
   ],
   "source": [
    "## \"How does PassengerId work?\"\n",
    "train_df[\"GroupId\"] = train_df[\"PassengerId\"].apply(lambda row: row.split(\"_\")[0])\n",
    "desired_column_order = [\"Name\", \"GroupId\", \"PassengerId\", \"HomePlanet\", \"CryoSleep\", \"Cabin\", \"Destination\", \"Age\", \"VIP\", \"RoomService\", \"FoodCourt\", \"ShoppingMall\", \"Spa\", \"VRDeck\", \"Transported\"]\n",
    "train_df = train_df[desired_column_order]\n",
    "train_df.nunique(dropna=False)\n",
    "\n",
    "train_df.head(1)"
   ]
  },
  {
   "cell_type": "code",
   "execution_count": null,
   "metadata": {},
   "outputs": [
    {
     "ename": "",
     "evalue": "",
     "output_type": "error",
     "traceback": [
      "\u001b[1;31mThe kernel failed to start as the Python Environment '~/Library/Caches/pypoetry/virtualenvs/kaggle-spaceship-titanic-ApNxPZqk-py3.10/bin/python' is no longer available. Consider selecting another kernel or refreshing the list of Python Environments."
     ]
    }
   ],
   "source": [
    "## \"How does Cabin work?\"\n",
    "extra_cabin_cols = train_df.Cabin.str.split(\"/\", expand=True).rename(columns={0: \"Deck\", 1:\"Number\", 2:\"Side\"})\n",
    "\n",
    "train_df = train_df.assign(\n",
    "    Deck=extra_cabin_cols[\"Deck\"],\n",
    "    Number=extra_cabin_cols[\"Number\"],\n",
    "    Side=extra_cabin_cols[\"Side\"],\n",
    ")\n",
    "\n",
    "desired_column_order = [\n",
    "    \"Name\", \"GroupId\", \"PassengerId\", \n",
    "    \"HomePlanet\", \"CryoSleep\", \"Cabin\", \n",
    "    \"Deck\", \"Number\", \"Side\", \"Destination\", \n",
    "    \"Age\", \"VIP\", \"RoomService\", \"FoodCourt\", \n",
    "    \"ShoppingMall\", \"Spa\", \"VRDeck\", \"Transported\"\n",
    "    ]\n",
    "\n",
    "train_df = train_df[desired_column_order]\n",
    "train_df.head(1)"
   ]
  },
  {
   "cell_type": "code",
   "execution_count": null,
   "metadata": {},
   "outputs": [
    {
     "ename": "",
     "evalue": "",
     "output_type": "error",
     "traceback": [
      "\u001b[1;31mThe kernel failed to start as the Python Environment '~/Library/Caches/pypoetry/virtualenvs/kaggle-spaceship-titanic-ApNxPZqk-py3.10/bin/python' is no longer available. Consider selecting another kernel or refreshing the list of Python Environments."
     ]
    }
   ],
   "source": [
    "## \"How many people were Transported?\"\n"
   ]
  },
  {
   "cell_type": "markdown",
   "metadata": {},
   "source": [
    "### Unrelated questions\n",
    "\n",
    "* Is there a relationship between VIP status and $ spent on amenities? \n",
    "* Is there a relationship between location on the ship and Transported?"
   ]
  },
  {
   "cell_type": "code",
   "execution_count": null,
   "metadata": {},
   "outputs": [
    {
     "ename": "",
     "evalue": "",
     "output_type": "error",
     "traceback": [
      "\u001b[1;31mThe kernel failed to start as the Python Environment '~/Library/Caches/pypoetry/virtualenvs/kaggle-spaceship-titanic-ApNxPZqk-py3.10/bin/python' is no longer available. Consider selecting another kernel or refreshing the list of Python Environments."
     ]
    }
   ],
   "source": []
  }
 ],
 "metadata": {
  "kernelspec": {
   "display_name": "kaggle-spaceship-titanic-ApNxPZqk-py3.10",
   "language": "python",
   "name": "python3"
  },
  "language_info": {
   "codemirror_mode": {
    "name": "ipython",
    "version": 3
   },
   "file_extension": ".py",
   "mimetype": "text/x-python",
   "name": "python",
   "nbconvert_exporter": "python",
   "pygments_lexer": "ipython3",
   "version": "3.10.2"
  },
  "orig_nbformat": 4
 },
 "nbformat": 4,
 "nbformat_minor": 2
}
